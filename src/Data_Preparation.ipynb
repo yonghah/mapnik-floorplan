{
 "cells": [
  {
   "cell_type": "markdown",
   "metadata": {},
   "source": [
    "## Convert GDB to PostGIS"
   ]
  },
  {
   "cell_type": "code",
   "execution_count": 19,
   "metadata": {
    "collapsed": false
   },
   "outputs": [
    {
     "name": "stdout",
     "output_type": "stream",
     "text": [
      "Had to open data source read-only.\n",
      "INFO: Open of `/Users/yonghah/work/test-data/campus.gdb'\n",
      "      using driver `OpenFileGDB' successful.\n",
      "1: Reference (3D Multi Line String)\n",
      "2: Room (3D Multi Polygon)\n",
      "3: Floor (3D Multi Polygon)\n",
      "4: Building (3D Multi Polygon)\n",
      "5: DEPTS (None)\n",
      "6: MATCH_ROOM_DEPT (None)\n",
      "7: MATCH_ROOM_OCCUPANT (None)\n"
     ]
    }
   ],
   "source": [
    "%%bash\n",
    "campus_gdb=~/work/test-data/campus.gdb\n",
    "ogrinfo $campus_gdb"
   ]
  },
  {
   "cell_type": "code",
   "execution_count": 24,
   "metadata": {
    "collapsed": false
   },
   "outputs": [],
   "source": [
    "# need to check this gives good curves\n",
    "%%bash \n",
    "campus_gdb=~/work/test-data/campus.gdb\n",
    "ogr2ogr -f \"PostgreSQL\" PG:\"dbname=yonghah user=yonghah password=1111\" -nln building -overwrite $campus_gdb Building\n",
    "ogr2ogr -f \"PostgreSQL\" PG:\"dbname=yonghah user=yonghah password=1111\" -nln floor -overwrite $campus_gdb Floor\n",
    "ogr2ogr -f \"PostgreSQL\" PG:\"dbname=yonghah user=yonghah password=1111\" -nln room -overwrite $campus_gdb Room\n",
    "ogr2ogr -f \"PostgreSQL\" PG:\"dbname=yonghah user=yonghah password=1111\" -nln reference -overwrite $campus_gdb Reference"
   ]
  },
  {
   "cell_type": "code",
   "execution_count": 3,
   "metadata": {
    "collapsed": false
   },
   "outputs": [],
   "source": [
    "import psycopg2\n",
    "import pandas as pd\n",
    "conn = psycopg2.connect(\"dbname='yonghah' user='yonghah' host='localhost' password='1111'\")"
   ]
  },
  {
   "cell_type": "code",
   "execution_count": 30,
   "metadata": {
    "collapsed": false
   },
   "outputs": [],
   "source": [
    "cur = conn.cursor()\n",
    "cur.execute(\"\"\"SELECT distinct rmtyp, rmtypdescr from room order by rmtyp\"\"\")"
   ]
  },
  {
   "cell_type": "code",
   "execution_count": 31,
   "metadata": {
    "collapsed": false
   },
   "outputs": [
    {
     "data": {
      "text/html": [
       "<div>\n",
       "<table border=\"1\" class=\"dataframe\">\n",
       "  <thead>\n",
       "    <tr style=\"text-align: right;\">\n",
       "      <th></th>\n",
       "      <th>rmtyp</th>\n",
       "      <th>rmtypdescr</th>\n",
       "    </tr>\n",
       "  </thead>\n",
       "  <tbody>\n",
       "    <tr>\n",
       "      <th>0</th>\n",
       "      <td>010</td>\n",
       "      <td>Custodial</td>\n",
       "    </tr>\n",
       "    <tr>\n",
       "      <th>1</th>\n",
       "      <td>020</td>\n",
       "      <td>Circulat'n</td>\n",
       "    </tr>\n",
       "    <tr>\n",
       "      <th>2</th>\n",
       "      <td>030</td>\n",
       "      <td>Mechanical</td>\n",
       "    </tr>\n",
       "    <tr>\n",
       "      <th>3</th>\n",
       "      <td>040</td>\n",
       "      <td>PubRestRm</td>\n",
       "    </tr>\n",
       "    <tr>\n",
       "      <th>4</th>\n",
       "      <td>050</td>\n",
       "      <td>Inactive</td>\n",
       "    </tr>\n",
       "    <tr>\n",
       "      <th>5</th>\n",
       "      <td>060</td>\n",
       "      <td>Renovation</td>\n",
       "    </tr>\n",
       "    <tr>\n",
       "      <th>6</th>\n",
       "      <td>070</td>\n",
       "      <td>Unfinished</td>\n",
       "    </tr>\n",
       "    <tr>\n",
       "      <th>7</th>\n",
       "      <td>110</td>\n",
       "      <td>Classroom</td>\n",
       "    </tr>\n",
       "    <tr>\n",
       "      <th>8</th>\n",
       "      <td>115</td>\n",
       "      <td>Class Serv</td>\n",
       "    </tr>\n",
       "    <tr>\n",
       "      <th>9</th>\n",
       "      <td>210</td>\n",
       "      <td>Class Lab</td>\n",
       "    </tr>\n",
       "    <tr>\n",
       "      <th>10</th>\n",
       "      <td>215</td>\n",
       "      <td>ClasLabSv</td>\n",
       "    </tr>\n",
       "    <tr>\n",
       "      <th>11</th>\n",
       "      <td>220</td>\n",
       "      <td>Open Lab</td>\n",
       "    </tr>\n",
       "    <tr>\n",
       "      <th>12</th>\n",
       "      <td>225</td>\n",
       "      <td>OpenLabSvc</td>\n",
       "    </tr>\n",
       "    <tr>\n",
       "      <th>13</th>\n",
       "      <td>250</td>\n",
       "      <td>ResNCLab</td>\n",
       "    </tr>\n",
       "    <tr>\n",
       "      <th>14</th>\n",
       "      <td>255</td>\n",
       "      <td>ResLabSvc</td>\n",
       "    </tr>\n",
       "    <tr>\n",
       "      <th>15</th>\n",
       "      <td>310</td>\n",
       "      <td>Office</td>\n",
       "    </tr>\n",
       "    <tr>\n",
       "      <th>16</th>\n",
       "      <td>315</td>\n",
       "      <td>Office Svc</td>\n",
       "    </tr>\n",
       "    <tr>\n",
       "      <th>17</th>\n",
       "      <td>350</td>\n",
       "      <td>Conference</td>\n",
       "    </tr>\n",
       "    <tr>\n",
       "      <th>18</th>\n",
       "      <td>355</td>\n",
       "      <td>ConfRmSvc</td>\n",
       "    </tr>\n",
       "    <tr>\n",
       "      <th>19</th>\n",
       "      <td>410</td>\n",
       "      <td>Study Rm</td>\n",
       "    </tr>\n",
       "    <tr>\n",
       "      <th>20</th>\n",
       "      <td>420</td>\n",
       "      <td>Stack</td>\n",
       "    </tr>\n",
       "    <tr>\n",
       "      <th>21</th>\n",
       "      <td>430</td>\n",
       "      <td>OpnStackSt</td>\n",
       "    </tr>\n",
       "    <tr>\n",
       "      <th>22</th>\n",
       "      <td>440</td>\n",
       "      <td>Proc Rm</td>\n",
       "    </tr>\n",
       "    <tr>\n",
       "      <th>23</th>\n",
       "      <td>455</td>\n",
       "      <td>Study Serv</td>\n",
       "    </tr>\n",
       "    <tr>\n",
       "      <th>24</th>\n",
       "      <td>510</td>\n",
       "      <td>Armory</td>\n",
       "    </tr>\n",
       "    <tr>\n",
       "      <th>25</th>\n",
       "      <td>515</td>\n",
       "      <td>Armory Svc</td>\n",
       "    </tr>\n",
       "    <tr>\n",
       "      <th>26</th>\n",
       "      <td>520</td>\n",
       "      <td>Ath/PhyEdu</td>\n",
       "    </tr>\n",
       "    <tr>\n",
       "      <th>27</th>\n",
       "      <td>525</td>\n",
       "      <td>Ath/PEServ</td>\n",
       "    </tr>\n",
       "    <tr>\n",
       "      <th>28</th>\n",
       "      <td>530</td>\n",
       "      <td>Media Prod</td>\n",
       "    </tr>\n",
       "    <tr>\n",
       "      <th>29</th>\n",
       "      <td>535</td>\n",
       "      <td>MedProdSvc</td>\n",
       "    </tr>\n",
       "    <tr>\n",
       "      <th>...</th>\n",
       "      <td>...</td>\n",
       "      <td>...</td>\n",
       "    </tr>\n",
       "    <tr>\n",
       "      <th>57</th>\n",
       "      <td>735</td>\n",
       "      <td>CenStorSrv</td>\n",
       "    </tr>\n",
       "    <tr>\n",
       "      <th>58</th>\n",
       "      <td>740</td>\n",
       "      <td>AutoStorag</td>\n",
       "    </tr>\n",
       "    <tr>\n",
       "      <th>59</th>\n",
       "      <td>745</td>\n",
       "      <td>AutoStorFa</td>\n",
       "    </tr>\n",
       "    <tr>\n",
       "      <th>60</th>\n",
       "      <td>750</td>\n",
       "      <td>CentralSvc</td>\n",
       "    </tr>\n",
       "    <tr>\n",
       "      <th>61</th>\n",
       "      <td>755</td>\n",
       "      <td>CServSupp</td>\n",
       "    </tr>\n",
       "    <tr>\n",
       "      <th>62</th>\n",
       "      <td>764</td>\n",
       "      <td>HazardMat</td>\n",
       "    </tr>\n",
       "    <tr>\n",
       "      <th>63</th>\n",
       "      <td>765</td>\n",
       "      <td>HazMatServ</td>\n",
       "    </tr>\n",
       "    <tr>\n",
       "      <th>64</th>\n",
       "      <td>810</td>\n",
       "      <td>PatienBdrm</td>\n",
       "    </tr>\n",
       "    <tr>\n",
       "      <th>65</th>\n",
       "      <td>815</td>\n",
       "      <td>PatBedSvc</td>\n",
       "    </tr>\n",
       "    <tr>\n",
       "      <th>66</th>\n",
       "      <td>820</td>\n",
       "      <td>PatientBth</td>\n",
       "    </tr>\n",
       "    <tr>\n",
       "      <th>67</th>\n",
       "      <td>830</td>\n",
       "      <td>Nurse Stat</td>\n",
       "    </tr>\n",
       "    <tr>\n",
       "      <th>68</th>\n",
       "      <td>835</td>\n",
       "      <td>NurseStnSr</td>\n",
       "    </tr>\n",
       "    <tr>\n",
       "      <th>69</th>\n",
       "      <td>840</td>\n",
       "      <td>Surgery</td>\n",
       "    </tr>\n",
       "    <tr>\n",
       "      <th>70</th>\n",
       "      <td>845</td>\n",
       "      <td>SurgerySvc</td>\n",
       "    </tr>\n",
       "    <tr>\n",
       "      <th>71</th>\n",
       "      <td>850</td>\n",
       "      <td>Treat/Exam</td>\n",
       "    </tr>\n",
       "    <tr>\n",
       "      <th>72</th>\n",
       "      <td>855</td>\n",
       "      <td>Tr/ExamSvc</td>\n",
       "    </tr>\n",
       "    <tr>\n",
       "      <th>73</th>\n",
       "      <td>860</td>\n",
       "      <td>DiagSrvLab</td>\n",
       "    </tr>\n",
       "    <tr>\n",
       "      <th>74</th>\n",
       "      <td>865</td>\n",
       "      <td>DiagLabSup</td>\n",
       "    </tr>\n",
       "    <tr>\n",
       "      <th>75</th>\n",
       "      <td>870</td>\n",
       "      <td>CentralSup</td>\n",
       "    </tr>\n",
       "    <tr>\n",
       "      <th>76</th>\n",
       "      <td>880</td>\n",
       "      <td>PublicWait</td>\n",
       "    </tr>\n",
       "    <tr>\n",
       "      <th>77</th>\n",
       "      <td>890</td>\n",
       "      <td>StaffOnCal</td>\n",
       "    </tr>\n",
       "    <tr>\n",
       "      <th>78</th>\n",
       "      <td>895</td>\n",
       "      <td>StfOnCallS</td>\n",
       "    </tr>\n",
       "    <tr>\n",
       "      <th>79</th>\n",
       "      <td>910</td>\n",
       "      <td>SleepWOBth</td>\n",
       "    </tr>\n",
       "    <tr>\n",
       "      <th>80</th>\n",
       "      <td>919</td>\n",
       "      <td>Toilet/Bat</td>\n",
       "    </tr>\n",
       "    <tr>\n",
       "      <th>81</th>\n",
       "      <td>920</td>\n",
       "      <td>SleepWBath</td>\n",
       "    </tr>\n",
       "    <tr>\n",
       "      <th>82</th>\n",
       "      <td>935</td>\n",
       "      <td>Sleep Serv</td>\n",
       "    </tr>\n",
       "    <tr>\n",
       "      <th>83</th>\n",
       "      <td>951</td>\n",
       "      <td>1BedrmApt</td>\n",
       "    </tr>\n",
       "    <tr>\n",
       "      <th>84</th>\n",
       "      <td>952</td>\n",
       "      <td>2BedrmApt</td>\n",
       "    </tr>\n",
       "    <tr>\n",
       "      <th>85</th>\n",
       "      <td>955</td>\n",
       "      <td>Apt Serv</td>\n",
       "    </tr>\n",
       "    <tr>\n",
       "      <th>86</th>\n",
       "      <td>None</td>\n",
       "      <td>None</td>\n",
       "    </tr>\n",
       "  </tbody>\n",
       "</table>\n",
       "<p>87 rows × 2 columns</p>\n",
       "</div>"
      ],
      "text/plain": [
       "   rmtyp  rmtypdescr\n",
       "0    010   Custodial\n",
       "1    020  Circulat'n\n",
       "2    030  Mechanical\n",
       "3    040   PubRestRm\n",
       "4    050    Inactive\n",
       "5    060  Renovation\n",
       "6    070  Unfinished\n",
       "7    110   Classroom\n",
       "8    115  Class Serv\n",
       "9    210   Class Lab\n",
       "10   215   ClasLabSv\n",
       "11   220    Open Lab\n",
       "12   225  OpenLabSvc\n",
       "13   250    ResNCLab\n",
       "14   255   ResLabSvc\n",
       "15   310      Office\n",
       "16   315  Office Svc\n",
       "17   350  Conference\n",
       "18   355   ConfRmSvc\n",
       "19   410    Study Rm\n",
       "20   420       Stack\n",
       "21   430  OpnStackSt\n",
       "22   440     Proc Rm\n",
       "23   455  Study Serv\n",
       "24   510      Armory\n",
       "25   515  Armory Svc\n",
       "26   520  Ath/PhyEdu\n",
       "27   525  Ath/PEServ\n",
       "28   530  Media Prod\n",
       "29   535  MedProdSvc\n",
       "..   ...         ...\n",
       "57   735  CenStorSrv\n",
       "58   740  AutoStorag\n",
       "59   745  AutoStorFa\n",
       "60   750  CentralSvc\n",
       "61   755   CServSupp\n",
       "62   764   HazardMat\n",
       "63   765  HazMatServ\n",
       "64   810  PatienBdrm\n",
       "65   815   PatBedSvc\n",
       "66   820  PatientBth\n",
       "67   830  Nurse Stat\n",
       "68   835  NurseStnSr\n",
       "69   840     Surgery\n",
       "70   845  SurgerySvc\n",
       "71   850  Treat/Exam\n",
       "72   855  Tr/ExamSvc\n",
       "73   860  DiagSrvLab\n",
       "74   865  DiagLabSup\n",
       "75   870  CentralSup\n",
       "76   880  PublicWait\n",
       "77   890  StaffOnCal\n",
       "78   895  StfOnCallS\n",
       "79   910  SleepWOBth\n",
       "80   919  Toilet/Bat\n",
       "81   920  SleepWBath\n",
       "82   935  Sleep Serv\n",
       "83   951   1BedrmApt\n",
       "84   952   2BedrmApt\n",
       "85   955    Apt Serv\n",
       "86  None        None\n",
       "\n",
       "[87 rows x 2 columns]"
      ]
     },
     "execution_count": 31,
     "metadata": {},
     "output_type": "execute_result"
    }
   ],
   "source": [
    "df = pd.DataFrame(cur.fetchall(), columns=['rmtyp', 'rmtypdescr'])\n",
    "df"
   ]
  },
  {
   "cell_type": "code",
   "execution_count": 34,
   "metadata": {
    "collapsed": false
   },
   "outputs": [
    {
     "data": {
      "text/plain": [
       "[(15335,)]"
      ]
     },
     "execution_count": 34,
     "metadata": {},
     "output_type": "execute_result"
    }
   ],
   "source": [
    "conn = psycopg2.connect(\"dbname='yonghah' user='yonghah' host='localhost' password='1111'\")\n",
    "cur = conn.cursor()\n",
    "cur.execute(\"\"\"SELECT count(*) from room where rmtyp='310'\"\"\")\n",
    "cur.fetchall()"
   ]
  },
  {
   "cell_type": "markdown",
   "metadata": {
    "collapsed": true
   },
   "source": [
    "## Let's pick up non-restroom rooms \n",
    "- not restroom 040, 919\n",
    "- not circulation (020 or (315 and sub 08)) \n",
    "- around 1700 rooms"
   ]
  },
  {
   "cell_type": "code",
   "execution_count": 35,
   "metadata": {
    "collapsed": false
   },
   "outputs": [
    {
     "data": {
      "text/plain": [
       "[(1871,)]"
      ]
     },
     "execution_count": 35,
     "metadata": {},
     "output_type": "execute_result"
    }
   ],
   "source": [
    "conn = psycopg2.connect(\"dbname='yonghah' user='yonghah' host='localhost' password='1111'\")\n",
    "cur = conn.cursor()\n",
    "cur.execute(\"\"\"select count(rmrecnbr) from (\n",
    "    SELECT rmrecnbr from room tablesample system(4)\\\n",
    "    where rmtyp != '020' and not (rmtyp ='315' and rmsubtyp = '08') \\\n",
    "    and not (rmtyp in ('040', '919')) LIMIT 2000) \\\n",
    "    as foo\"\"\")\n",
    "cur.fetchall()"
   ]
  },
  {
   "cell_type": "markdown",
   "metadata": {
    "collapsed": true
   },
   "source": [
    "## Separate validation dataset"
   ]
  },
  {
   "cell_type": "code",
   "execution_count": 22,
   "metadata": {
    "collapsed": true
   },
   "outputs": [],
   "source": [
    "import os\n",
    "import shutil\n",
    "import random"
   ]
  },
  {
   "cell_type": "code",
   "execution_count": 62,
   "metadata": {
    "collapsed": true
   },
   "outputs": [],
   "source": [
    "rmtyp = 'other'\n",
    "all_path = \"../image/rmtyp/\" + rmtyp\n",
    "train_dst = \"../image/data/train/\" + rmtyp\n",
    "val_dst = \"../image/data/validate/\" + rmtyp\n",
    "ftype = \"png\"\n",
    "random_fraction = 0.3"
   ]
  },
  {
   "cell_type": "code",
   "execution_count": 63,
   "metadata": {
    "collapsed": false
   },
   "outputs": [
    {
     "data": {
      "text/plain": [
       "1856"
      ]
     },
     "execution_count": 63,
     "metadata": {},
     "output_type": "execute_result"
    }
   ],
   "source": [
    "files = [file for file in os.listdir(all_path) if os.path.isfile(os.path.join(all_path, file)) and file.split('.')[-1] == ftype]\n",
    "len(files)"
   ]
  },
  {
   "cell_type": "code",
   "execution_count": 64,
   "metadata": {
    "collapsed": false
   },
   "outputs": [
    {
     "data": {
      "text/plain": [
       "557"
      ]
     },
     "execution_count": 64,
     "metadata": {},
     "output_type": "execute_result"
    }
   ],
   "source": [
    "random_amount = round(len(files) * random_fraction)\n",
    "random.shuffle(files)\n",
    "random_amount"
   ]
  },
  {
   "cell_type": "code",
   "execution_count": 65,
   "metadata": {
    "collapsed": false
   },
   "outputs": [
    {
     "name": "stdout",
     "output_type": "stream",
     "text": [
      "../image/data/train/other\n",
      "../image/data/validate/other\n"
     ]
    }
   ],
   "source": [
    "# check dst directory\n",
    "dsts = [train_dst, val_dst]\n",
    "for dst in dsts:\n",
    "    if os.path.exists(dst):\n",
    "        shutil.rmtree(dst)\n",
    "    os.makedirs(dst)\n",
    "    print(dst)"
   ]
  },
  {
   "cell_type": "code",
   "execution_count": 66,
   "metadata": {
    "collapsed": false
   },
   "outputs": [],
   "source": [
    "for i, f in enumerate(files):\n",
    "    dst = train_dst\n",
    "    if i < random_amount:\n",
    "        dst = val_dst\n",
    "    shutil.copy(os.path.join(all_path, f), dst)"
   ]
  },
  {
   "cell_type": "code",
   "execution_count": null,
   "metadata": {
    "collapsed": true
   },
   "outputs": [],
   "source": []
  }
 ],
 "metadata": {
  "anaconda-cloud": {},
  "kernelspec": {
   "display_name": "Python [conda env:yhmain]",
   "language": "python",
   "name": "conda-env-yhmain-py"
  },
  "language_info": {
   "codemirror_mode": {
    "name": "ipython",
    "version": 3
   },
   "file_extension": ".py",
   "mimetype": "text/x-python",
   "name": "python",
   "nbconvert_exporter": "python",
   "pygments_lexer": "ipython3",
   "version": "3.5.2"
  }
 },
 "nbformat": 4,
 "nbformat_minor": 1
}
