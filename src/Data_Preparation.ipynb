{
 "cells": [
  {
   "cell_type": "markdown",
   "metadata": {},
   "source": [
    "## Convert GDB to PostGIS"
   ]
  },
  {
   "cell_type": "code",
   "execution_count": 19,
   "metadata": {
    "collapsed": false
   },
   "outputs": [
    {
     "name": "stdout",
     "output_type": "stream",
     "text": [
      "Had to open data source read-only.\n",
      "INFO: Open of `/Users/yonghah/work/test-data/campus.gdb'\n",
      "      using driver `OpenFileGDB' successful.\n",
      "1: Reference (3D Multi Line String)\n",
      "2: Room (3D Multi Polygon)\n",
      "3: Floor (3D Multi Polygon)\n",
      "4: Building (3D Multi Polygon)\n",
      "5: DEPTS (None)\n",
      "6: MATCH_ROOM_DEPT (None)\n",
      "7: MATCH_ROOM_OCCUPANT (None)\n"
     ]
    }
   ],
   "source": [
    "%%bash\n",
    "campus_gdb=~/work/test-data/campus.gdb\n",
    "ogrinfo $campus_gdb"
   ]
  },
  {
   "cell_type": "code",
   "execution_count": 24,
   "metadata": {
    "collapsed": false
   },
   "outputs": [],
   "source": [
    "%%bash \n",
    "campus_gdb=~/work/test-data/campus.gdb\n",
    "ogr2ogr -f \"PostgreSQL\" PG:\"dbname=yonghah user=yonghah password=1111\" -nln building -overwrite $campus_gdb Building\n",
    "ogr2ogr -f \"PostgreSQL\" PG:\"dbname=yonghah user=yonghah password=1111\" -nln floor -overwrite $campus_gdb Floor\n",
    "ogr2ogr -f \"PostgreSQL\" PG:\"dbname=yonghah user=yonghah password=1111\" -nln room -overwrite $campus_gdb Room\n",
    "ogr2ogr -f \"PostgreSQL\" PG:\"dbname=yonghah user=yonghah password=1111\" -nln reference -overwrite $campus_gdb Reference"
   ]
  },
  {
   "cell_type": "code",
   "execution_count": null,
   "metadata": {
    "collapsed": true
   },
   "outputs": [],
   "source": []
  }
 ],
 "metadata": {
  "anaconda-cloud": {},
  "kernelspec": {
   "display_name": "Python [conda env:yhmain]",
   "language": "python",
   "name": "conda-env-yhmain-py"
  },
  "language_info": {
   "codemirror_mode": {
    "name": "ipython",
    "version": 3
   },
   "file_extension": ".py",
   "mimetype": "text/x-python",
   "name": "python",
   "nbconvert_exporter": "python",
   "pygments_lexer": "ipython3",
   "version": "3.5.2"
  }
 },
 "nbformat": 4,
 "nbformat_minor": 1
}
